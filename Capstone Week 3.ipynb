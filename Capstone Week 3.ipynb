{
 "cells": [
  {
   "cell_type": "markdown",
   "metadata": {},
   "source": [
    "# Clustering\n",
    "\n",
    "### Prep libraries"
   ]
  },
  {
   "cell_type": "code",
   "execution_count": 19,
   "metadata": {},
   "outputs": [
    {
     "name": "stdout",
     "output_type": "stream",
     "text": [
      "Libraries imported.\n"
     ]
    }
   ],
   "source": [
    "import numpy as np # library to handle data in a vectorized manner\n",
    "\n",
    "import pandas as pd # library for data analsysis\n",
    "pd.set_option('display.max_columns', None)\n",
    "pd.set_option('display.max_rows', None)\n",
    "\n",
    "import json # library to handle JSON files\n",
    "\n",
    "from geopy.geocoders import Nominatim # convert an address into latitude and longitude values\n",
    "\n",
    "import requests # library to handle requests\n",
    "from pandas.io.json import json_normalize # tranform JSON file into a pandas dataframe\n",
    "\n",
    "# Matplotlib and associated plotting modules\n",
    "import matplotlib.cm as cm\n",
    "import matplotlib.colors as colors\n",
    "\n",
    "# import k-means from clustering stage\n",
    "from sklearn.cluster import KMeans\n",
    "\n",
    "import folium # map rendering library\n",
    "\n",
    "# import BeautifulSoup to convert text from page\n",
    "from bs4 import BeautifulSoup\n",
    "import requests\n",
    "\n",
    "print('Libraries imported.')"
   ]
  },
  {
   "cell_type": "markdown",
   "metadata": {},
   "source": [
    "For this assignment, you will be required to explore and cluster the neighborhoods in Toronto.\n",
    "\n",
    "1. Start by creating a new Notebook for this assignment.\n",
    "1. Use the Notebook to build the code to scrape the following Wikipedia page, https://en.wikipedia.org/wiki/List_of_postal_codes_of_Canada:_M, in order to obtain the data that is in the table of postal codes and to transform the data into a pandas dataframe like the one shown below:"
   ]
  },
  {
   "cell_type": "code",
   "execution_count": 54,
   "metadata": {},
   "outputs": [],
   "source": [
    "# getting data from internet\n",
    "wiki = 'https://en.wikipedia.org/wiki/List_of_postal_codes_of_Canada:_M'\n",
    "\n",
    "# using beautiful soup to parse the HTML/XML codes.\n",
    "soup = BeautifulSoup(requests.get(wiki).text,'xml')\n",
    "#print(soup.prettify())"
   ]
  },
  {
   "cell_type": "code",
   "execution_count": 53,
   "metadata": {},
   "outputs": [],
   "source": [
    "#using soup object, iterate the table to get the data from the HTML page and store it into a list\n",
    "data = []\n",
    "columns = []\n",
    "table = soup.find('table')\n",
    "#print(table)"
   ]
  },
  {
   "cell_type": "code",
   "execution_count": 55,
   "metadata": {},
   "outputs": [
    {
     "data": {
      "text/html": [
       "<div>\n",
       "<style scoped>\n",
       "    .dataframe tbody tr th:only-of-type {\n",
       "        vertical-align: middle;\n",
       "    }\n",
       "\n",
       "    .dataframe tbody tr th {\n",
       "        vertical-align: top;\n",
       "    }\n",
       "\n",
       "    .dataframe thead th {\n",
       "        text-align: right;\n",
       "    }\n",
       "</style>\n",
       "<table border=\"1\" class=\"dataframe\">\n",
       "  <thead>\n",
       "    <tr style=\"text-align: right;\">\n",
       "      <th></th>\n",
       "      <th>\\nM1ANot assigned</th>\n",
       "      <th>\\nM2ANot assigned</th>\n",
       "      <th>\\nM3ANorth York(Parkwoods)</th>\n",
       "      <th>\\nM4ANorth York(Victoria Village)</th>\n",
       "      <th>\\nM5ADowntown Toronto(Regent Park / Harbourfront)</th>\n",
       "      <th>\\nM6ANorth York(Lawrence Manor / Lawrence Heights)</th>\n",
       "      <th>\\nM7AQueen's Park / Ontario Provincial Government</th>\n",
       "      <th>\\nM8ANot assigned</th>\n",
       "      <th>\\nM9AEtobicoke(Islington Avenue)</th>\n",
       "    </tr>\n",
       "  </thead>\n",
       "  <tbody>\n",
       "    <tr>\n",
       "      <th>0</th>\n",
       "      <td>\\nM1BScarborough(Malvern / Rouge)</td>\n",
       "      <td>\\nM2BNot assigned</td>\n",
       "      <td>\\nM3BNorth York(Don Mills)North</td>\n",
       "      <td>\\nM4BEast York(Parkview Hill / Woodbine Gardens)</td>\n",
       "      <td>\\nM5BDowntown Toronto(Garden District, Ryerson)</td>\n",
       "      <td>\\nM6BNorth York(Glencairn)</td>\n",
       "      <td>\\nM7BNot assigned</td>\n",
       "      <td>\\nM8BNot assigned</td>\n",
       "      <td>\\nM9BEtobicoke(West Deane Park / Princess Gard...</td>\n",
       "    </tr>\n",
       "    <tr>\n",
       "      <th>1</th>\n",
       "      <td>\\nM1CScarborough(Rouge Hill / Port Union / Hig...</td>\n",
       "      <td>\\nM2CNot assigned</td>\n",
       "      <td>\\nM3CNorth York(Don Mills)South(Flemingdon Park)</td>\n",
       "      <td>\\nM4CEast York(Woodbine Heights)</td>\n",
       "      <td>\\nM5CDowntown Toronto(St. James Town)</td>\n",
       "      <td>\\nM6CYork(Humewood-Cedarvale)</td>\n",
       "      <td>\\nM7CNot assigned</td>\n",
       "      <td>\\nM8CNot assigned</td>\n",
       "      <td>\\nM9CEtobicoke(Eringate / Bloordale Gardens / ...</td>\n",
       "    </tr>\n",
       "    <tr>\n",
       "      <th>2</th>\n",
       "      <td>\\nM1EScarborough(Guildwood / Morningside / Wes...</td>\n",
       "      <td>\\nM2ENot assigned</td>\n",
       "      <td>\\nM3ENot assigned</td>\n",
       "      <td>\\nM4EEast Toronto(The Beaches)</td>\n",
       "      <td>\\nM5EDowntown Toronto(Berczy Park)</td>\n",
       "      <td>\\nM6EYork(Caledonia-Fairbanks)</td>\n",
       "      <td>\\nM7ENot assigned</td>\n",
       "      <td>\\nM8ENot assigned</td>\n",
       "      <td>\\nM9ENot assigned</td>\n",
       "    </tr>\n",
       "    <tr>\n",
       "      <th>3</th>\n",
       "      <td>\\nM1GScarborough(Woburn)</td>\n",
       "      <td>\\nM2GNot assigned</td>\n",
       "      <td>\\nM3GNot assigned</td>\n",
       "      <td>\\nM4GEast York(Leaside)</td>\n",
       "      <td>\\nM5GDowntown Toronto(Central Bay Street)</td>\n",
       "      <td>\\nM6GDowntown Toronto(Christie)</td>\n",
       "      <td>\\nM7GNot assigned</td>\n",
       "      <td>\\nM8GNot assigned</td>\n",
       "      <td>\\nM9GNot assigned</td>\n",
       "    </tr>\n",
       "    <tr>\n",
       "      <th>4</th>\n",
       "      <td>\\nM1HScarborough(Cedarbrae)</td>\n",
       "      <td>\\nM2HNorth York(Hillcrest Village)</td>\n",
       "      <td>\\nM3HNorth York(Bathurst Manor / Wilson Height...</td>\n",
       "      <td>\\nM4HEast York(Thorncliffe Park)</td>\n",
       "      <td>\\nM5HDowntown Toronto(Richmond / Adelaide / King)</td>\n",
       "      <td>\\nM6HWest Toronto(Dufferin / Dovercourt Village)</td>\n",
       "      <td>\\nM7HNot assigned</td>\n",
       "      <td>\\nM8HNot assigned</td>\n",
       "      <td>\\nM9HNot assigned</td>\n",
       "    </tr>\n",
       "  </tbody>\n",
       "</table>\n",
       "</div>"
      ],
      "text/plain": [
       "                                   \\nM1ANot assigned  \\\n",
       "0                  \\nM1BScarborough(Malvern / Rouge)   \n",
       "1  \\nM1CScarborough(Rouge Hill / Port Union / Hig...   \n",
       "2  \\nM1EScarborough(Guildwood / Morningside / Wes...   \n",
       "3                           \\nM1GScarborough(Woburn)   \n",
       "4                        \\nM1HScarborough(Cedarbrae)   \n",
       "\n",
       "                    \\nM2ANot assigned  \\\n",
       "0                   \\nM2BNot assigned   \n",
       "1                   \\nM2CNot assigned   \n",
       "2                   \\nM2ENot assigned   \n",
       "3                   \\nM2GNot assigned   \n",
       "4  \\nM2HNorth York(Hillcrest Village)   \n",
       "\n",
       "                          \\nM3ANorth York(Parkwoods)  \\\n",
       "0                    \\nM3BNorth York(Don Mills)North   \n",
       "1   \\nM3CNorth York(Don Mills)South(Flemingdon Park)   \n",
       "2                                  \\nM3ENot assigned   \n",
       "3                                  \\nM3GNot assigned   \n",
       "4  \\nM3HNorth York(Bathurst Manor / Wilson Height...   \n",
       "\n",
       "                  \\nM4ANorth York(Victoria Village)  \\\n",
       "0  \\nM4BEast York(Parkview Hill / Woodbine Gardens)   \n",
       "1                  \\nM4CEast York(Woodbine Heights)   \n",
       "2                    \\nM4EEast Toronto(The Beaches)   \n",
       "3                           \\nM4GEast York(Leaside)   \n",
       "4                  \\nM4HEast York(Thorncliffe Park)   \n",
       "\n",
       "   \\nM5ADowntown Toronto(Regent Park / Harbourfront)  \\\n",
       "0    \\nM5BDowntown Toronto(Garden District, Ryerson)   \n",
       "1              \\nM5CDowntown Toronto(St. James Town)   \n",
       "2                 \\nM5EDowntown Toronto(Berczy Park)   \n",
       "3          \\nM5GDowntown Toronto(Central Bay Street)   \n",
       "4  \\nM5HDowntown Toronto(Richmond / Adelaide / King)   \n",
       "\n",
       "  \\nM6ANorth York(Lawrence Manor / Lawrence Heights)  \\\n",
       "0                         \\nM6BNorth York(Glencairn)   \n",
       "1                      \\nM6CYork(Humewood-Cedarvale)   \n",
       "2                     \\nM6EYork(Caledonia-Fairbanks)   \n",
       "3                    \\nM6GDowntown Toronto(Christie)   \n",
       "4   \\nM6HWest Toronto(Dufferin / Dovercourt Village)   \n",
       "\n",
       "  \\nM7AQueen's Park / Ontario Provincial Government  \\nM8ANot assigned  \\\n",
       "0                                 \\nM7BNot assigned  \\nM8BNot assigned   \n",
       "1                                 \\nM7CNot assigned  \\nM8CNot assigned   \n",
       "2                                 \\nM7ENot assigned  \\nM8ENot assigned   \n",
       "3                                 \\nM7GNot assigned  \\nM8GNot assigned   \n",
       "4                                 \\nM7HNot assigned  \\nM8HNot assigned   \n",
       "\n",
       "                    \\nM9AEtobicoke(Islington Avenue)  \n",
       "0  \\nM9BEtobicoke(West Deane Park / Princess Gard...  \n",
       "1  \\nM9CEtobicoke(Eringate / Bloordale Gardens / ...  \n",
       "2                                  \\nM9ENot assigned  \n",
       "3                                  \\nM9GNot assigned  \n",
       "4                                  \\nM9HNot assigned  "
      ]
     },
     "execution_count": 55,
     "metadata": {},
     "output_type": "execute_result"
    }
   ],
   "source": [
    "#using soup object, iterate the table to get the data from the HTML page and store it into a list\n",
    "for index, tr in enumerate(table.find_all('tr')):\n",
    "    section = []\n",
    "    for td in tr.find_all(['th','td']):\n",
    "        section.append(td.text.rstrip())\n",
    "    \n",
    "    #First row of data is the header\n",
    "    if (index == 0):\n",
    "        columns = section\n",
    "    else:\n",
    "        data.append(section)\n",
    "\n",
    "#convert list into Pandas DataFrame\n",
    "canada_df = pd.DataFrame(data = data,columns = columns)\n",
    "canada_df.head() # Need to remove not assigned"
   ]
  },
  {
   "cell_type": "code",
   "execution_count": 51,
   "metadata": {},
   "outputs": [
    {
     "name": "stdout",
     "output_type": "stream",
     "text": [
      "2\n"
     ]
    }
   ],
   "source": []
  },
  {
   "cell_type": "code",
   "execution_count": null,
   "metadata": {},
   "outputs": [],
   "source": []
  },
  {
   "cell_type": "code",
   "execution_count": null,
   "metadata": {},
   "outputs": [],
   "source": []
  },
  {
   "cell_type": "code",
   "execution_count": null,
   "metadata": {},
   "outputs": [],
   "source": []
  },
  {
   "cell_type": "code",
   "execution_count": null,
   "metadata": {},
   "outputs": [],
   "source": []
  },
  {
   "cell_type": "code",
   "execution_count": null,
   "metadata": {},
   "outputs": [],
   "source": []
  }
 ],
 "metadata": {
  "kernelspec": {
   "display_name": "Python 3",
   "language": "python",
   "name": "python3"
  },
  "language_info": {
   "codemirror_mode": {
    "name": "ipython",
    "version": 3
   },
   "file_extension": ".py",
   "mimetype": "text/x-python",
   "name": "python",
   "nbconvert_exporter": "python",
   "pygments_lexer": "ipython3",
   "version": "3.7.6"
  }
 },
 "nbformat": 4,
 "nbformat_minor": 4
}
